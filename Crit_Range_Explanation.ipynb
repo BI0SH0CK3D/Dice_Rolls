{
 "cells": [
  {
   "cell_type": "markdown",
   "metadata": {},
   "source": [
    " # Critical Hit Range Analysis"
   ]
  },
  {
   "cell_type": "code",
   "execution_count": 118,
   "metadata": {},
   "outputs": [
    {
     "name": "stdout",
     "output_type": "stream",
     "text": [
      "1d4: 2\n",
      "1d20: 6\n"
     ]
    }
   ],
   "source": [
    "import random \n",
    "\n",
    "# create generic dice roller function that uses D&D syntax, i.e. 1d4. Default bonus is 0\n",
    "def roll(number, sides, bonus = 0):\n",
    "    number_rolled = 0\n",
    "    bonus_damage = number * bonus\n",
    "    for i in range(number):\n",
    "        number_rolled += random.randint(1, sides)\n",
    "    return number_rolled + bonus_damage\n",
    "\n",
    "# examples\n",
    "print(\"1d4:\",roll(1,4))\n",
    "print(\"1d20:\",roll(1,20,1))\n"
   ]
  },
  {
   "cell_type": "markdown",
   "metadata": {},
   "source": [
    "# Validate the roll() function"
   ]
  },
  {
   "cell_type": "code",
   "execution_count": 95,
   "metadata": {
    "collapsed": true,
    "scrolled": true
   },
   "outputs": [],
   "source": [
    "# generate a list of data to make sure they look right\n",
    "d4_data = []\n",
    "for i in range(1000):\n",
    "    d4_data.append(roll(1,4))\n",
    "\n",
    "d20_data = []\n",
    "for i in range(1000):\n",
    "    d20_data.append(roll(1,20))\n",
    "\n",
    "# assert that 1 and 4 the lowest and highest in the set\n",
    "assert min(d4_data) == 1\n",
    "assert max(d4_data) == 4\n",
    "\n",
    "# assert that 1 and 20 the lowest and highest in the set\n",
    "assert min(d20_data) == 1\n",
    "assert max(d20_data) == 20"
   ]
  },
  {
   "cell_type": "markdown",
   "metadata": {},
   "source": [
    "# Create weapon() function\n",
    "### This will roll an attack and build a set of damages. It will use our roll function to test for crits. It's worth noting we'll be using the crit method were the dice are rolled the number of times of the crit modifier, not multiplied by it.    "
   ]
  },
  {
   "cell_type": "code",
   "execution_count": 119,
   "metadata": {
    "collapsed": true
   },
   "outputs": [],
   "source": [
    "# create weapon class that takes\n",
    "def weapon(number, weapon): \n",
    "    data = []\n",
    "    \n",
    "    # choose weapon - two dice on a 19-20 or three on only a 20\n",
    "    if weapon == \"Falchion\" or 'Falchion':\n",
    "        crit_min = 19\n",
    "        crit_dice = 2\n",
    "    elif weapon == \"Greataxe\" or 'greataxe':\n",
    "        crit_min = 20\n",
    "        crit_dice = 3\n",
    "        \n",
    "    # make an attack for each number in range\n",
    "    for i in range(number):\n",
    "        damage = 0\n",
    "        attack_roll = roll(1,20)\n",
    "        \n",
    "        # if it is a critical hit, adjust damage acordingly\n",
    "        if attack_roll >= crit_min:\n",
    "            damage += roll(crit_dice, 10)\n",
    "            data.append(damage)\n",
    "        else:\n",
    "            damage += roll(1,10)\n",
    "            data.append(damage)\n",
    "    return data\n",
    "            \n",
    "            "
   ]
  },
  {
   "cell_type": "markdown",
   "metadata": {},
   "source": [
    "# Create lists of data to find average\n",
    "### in this run I will use 100,000 attacks to make a list"
   ]
  },
  {
   "cell_type": "code",
   "execution_count": 121,
   "metadata": {},
   "outputs": [
    {
     "name": "stdout",
     "output_type": "stream",
     "text": [
      "Average Falchion Damage: 6.04288\n",
      "Average Greataxe Damage: 6.04375\n"
     ]
    }
   ],
   "source": [
    "falchion_data = weapon(100000, \"Falchion\")\n",
    "greataxe_data = weapon(100000, \"Greataxe\")\n",
    "\n",
    "print(\"Average Falchion Damage:\", sum(falchion_data)/len(falchion_data))\n",
    "print(\"Average Greataxe Damage:\", sum(greataxe_data)/len(greataxe_data))"
   ]
  },
  {
   "cell_type": "markdown",
   "metadata": {},
   "source": [
    "# Conclusion\n",
    "### It appears that there is no real difference in the average damage over time.\n"
   ]
  }
 ],
 "metadata": {
  "kernelspec": {
   "display_name": "Python 3",
   "language": "python",
   "name": "python3"
  },
  "language_info": {
   "codemirror_mode": {
    "name": "ipython",
    "version": 3
   },
   "file_extension": ".py",
   "mimetype": "text/x-python",
   "name": "python",
   "nbconvert_exporter": "python",
   "pygments_lexer": "ipython3",
   "version": "3.5.2"
  }
 },
 "nbformat": 4,
 "nbformat_minor": 2
}
